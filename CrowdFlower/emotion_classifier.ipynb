{
 "cells": [
  {
   "cell_type": "code",
   "execution_count": 1,
   "metadata": {},
   "outputs": [],
   "source": [
    "import numpy as np\n",
    "import scipy\n",
    "\n",
    "from sklearn.metrics import accuracy_score, f1_score\n",
    "from sklearn.model_selection import train_test_split\n",
    "import os\n",
    "\n",
    "import gensim\n",
    "from gensim.test.utils import common_texts\n",
    "from gensim.models.doc2vec import Doc2Vec, TaggedDocument\n",
    "\n",
    "import pandas as pd\n",
    "\n",
    "from nltk.tokenize import sent_tokenize, word_tokenize"
   ]
  },
  {
   "cell_type": "code",
   "execution_count": 2,
   "metadata": {},
   "outputs": [],
   "source": [
    "# Hyperparamater\n",
    "EMBED_DIM = 300"
   ]
  },
  {
   "cell_type": "code",
   "execution_count": 3,
   "metadata": {},
   "outputs": [],
   "source": [
    "df = pd.read_csv(\"data/text_emotion.csv\", sep=',', engine='python')\n",
    "# TODO: should filter out empty sentiment?"
   ]
  },
  {
   "cell_type": "code",
   "execution_count": 4,
   "metadata": {},
   "outputs": [],
   "source": [
    "tag2int = {\"surprise\":0, \"happiness\":1, \"sadness\":2, \"anger\":3, \"fun\":4, \"worry\":5, \"love\":6, \"hate\":7, \"enthusiasm\":8, \"boredom\":9, \"relief\":10, \"empty\":11, \"neutral\":12}\n",
    "int2tag = {}\n",
    "for tag in tag2int:\n",
    "    idx = tag2int[tag]\n",
    "    int2tag[idx] = tag"
   ]
  },
  {
   "cell_type": "code",
   "execution_count": 5,
   "metadata": {},
   "outputs": [],
   "source": [
    "def create_tagged_docs(df):\n",
    "    tagged_docs = []\n",
    "    for index, row in df.iterrows():\n",
    "        tagged_doc = TaggedDocument(words=word_tokenize(row[\"content\"]), \n",
    "                                    tags=[tag2int[row[\"sentiment\"]]])\n",
    "        tagged_docs.append(tagged_doc)\n",
    "    return tagged_docs"
   ]
  },
  {
   "cell_type": "code",
   "execution_count": 6,
   "metadata": {},
   "outputs": [],
   "source": [
    "all_tagged_docs = create_tagged_docs(df)\n",
    "train_docs, test_docs = train_test_split(all_tagged_docs, test_size=0.2)\n",
    "train_docs, val_docs = train_test_split(train_docs, test_size=0.2)\n",
    "# TODO: check class balance"
   ]
  },
  {
   "cell_type": "code",
   "execution_count": 7,
   "metadata": {},
   "outputs": [
    {
     "output_type": "stream",
     "name": "stdout",
     "text": [
      "Train example:  TaggedDocument(['On', 'the', 'plane', 'to', 'yosemite', '.', 'Forgot', 'my', 'laptop', 'at', 'home'], [5])\n"
     ]
    }
   ],
   "source": [
    "print(\"Train example: \", train_docs[0])"
   ]
  },
  {
   "cell_type": "code",
   "execution_count": 8,
   "metadata": {},
   "outputs": [
    {
     "output_type": "stream",
     "name": "stdout",
     "text": [
      "Train size = 25600\nVal size = 6400\nTest size = 8000\n"
     ]
    }
   ],
   "source": [
    "print(\"Train size = {}\".format(len(train_docs)))\n",
    "print(\"Val size = {}\".format(len(val_docs)))\n",
    "print(\"Test size = {}\".format(len(test_docs)))"
   ]
  },
  {
   "cell_type": "code",
   "execution_count": 10,
   "metadata": {},
   "outputs": [],
   "source": [
    "# TODO: fine tune the embedding model\n",
    "doc2vec_model = Doc2Vec(dm=1, vector_size=300, negative=5, hs=0, min_count=2, sample = 0, alpha=0.025, min_alpha=0.001, epochs=50)\n",
    "doc2vec_model.build_vocab(train_docs)\n",
    "doc2vec_model.train(train_docs, total_examples=doc2vec_model.corpus_count, epochs=doc2vec_model.epochs)"
   ]
  },
  {
   "source": [
    "Show a sample embedded vector for a test post."
   ],
   "cell_type": "markdown",
   "metadata": {}
  },
  {
   "cell_type": "code",
   "execution_count": 59,
   "metadata": {},
   "outputs": [
    {
     "output_type": "execute_result",
     "data": {
      "text/plain": [
       "array([ 2.83844601e-02,  4.08873826e-01, -5.48948884e-01, -2.23083198e-01,\n",
       "       -1.86418891e-01, -4.39181000e-01, -4.36206609e-01,  2.58653730e-01,\n",
       "        2.91305065e-01, -1.17004864e-01, -1.71481282e-01,  1.82668641e-01,\n",
       "       -1.98771074e-01,  2.58236945e-01, -4.81589764e-01,  2.96151459e-01,\n",
       "        6.38123810e-01, -2.32414976e-01,  9.78083387e-02, -2.01625198e-01,\n",
       "        2.00216249e-01,  1.14549085e-01, -1.14083886e-01,  3.25587213e-01,\n",
       "        4.40092891e-01,  1.22033380e-01,  1.84285536e-01,  7.87060633e-02,\n",
       "       -6.26463950e-01,  2.41776835e-02,  1.67207658e-01,  8.04566666e-02,\n",
       "       -4.10289556e-01, -8.20667371e-02, -7.49115720e-02,  1.18457168e-01,\n",
       "       -1.73431143e-01,  5.16544282e-01, -4.27971601e-01, -3.89754653e-01,\n",
       "       -1.81273654e-01, -2.21461639e-01, -7.75295347e-02,  1.81137443e-01,\n",
       "       -8.33418667e-01,  9.87765938e-02, -5.24490811e-02, -2.06260309e-01,\n",
       "        3.40102911e-01, -1.74491957e-01, -2.48825982e-01,  3.00210603e-02,\n",
       "        2.39798933e-01, -1.78000927e-01, -1.43603832e-01, -2.48187050e-01,\n",
       "        3.78111482e-01,  1.51678935e-01,  4.23917640e-03,  5.17603233e-02,\n",
       "       -3.53161007e-01,  3.76514733e-01, -6.41165301e-02, -4.81091410e-01,\n",
       "       -2.07012832e-01,  1.35612682e-01, -2.74366558e-01, -5.54328084e-01,\n",
       "        4.40119207e-01,  1.80766597e-01,  4.17301692e-02,  4.04653341e-01,\n",
       "       -2.61643410e-01, -7.46301860e-02,  2.61496633e-01, -2.10042655e-01,\n",
       "       -5.14770076e-02, -3.73646796e-01, -3.10676843e-01, -4.76674259e-01,\n",
       "       -2.36833543e-01,  5.00806831e-02,  1.24217227e-01, -3.32050800e-01,\n",
       "       -2.92094052e-01,  1.55392457e-02, -1.85331061e-01, -3.49110365e-02,\n",
       "       -9.49882939e-02,  6.86757267e-02,  5.40854186e-02,  7.71584874e-03,\n",
       "        2.53513128e-01, -1.43716976e-01,  3.18047732e-01,  1.17929094e-01,\n",
       "        2.64196396e-01,  1.36710703e-01,  3.46239716e-01, -4.60005879e-01,\n",
       "        3.16975325e-01, -2.08570734e-01,  5.27118087e-01,  2.01903079e-02,\n",
       "       -5.14487386e-01,  4.74115968e-01, -2.76593059e-01, -5.55834711e-01,\n",
       "        1.20152812e-02, -1.67275161e-01,  8.54174271e-02, -1.34252533e-01,\n",
       "       -1.64028630e-01,  2.37090752e-01,  1.19212382e-01,  4.55057502e-01,\n",
       "       -7.80504718e-02, -1.45468026e-01,  5.92812359e-01, -1.51025668e-01,\n",
       "       -4.25352454e-01,  1.96759794e-02, -4.05475423e-02, -4.77187574e-01,\n",
       "       -1.88372776e-01,  4.10172373e-01,  1.45597681e-01, -3.68640274e-02,\n",
       "        2.10301220e-01,  2.33186990e-01,  2.17347458e-01, -2.30048433e-01,\n",
       "       -1.07558794e-01,  5.00589728e-01,  7.68146068e-02, -1.16388820e-01,\n",
       "        2.36016586e-01, -9.29397196e-02,  1.60685566e-03,  2.70871043e-01,\n",
       "        3.98210615e-01,  4.33541864e-01,  2.38063753e-01, -1.52062595e-01,\n",
       "        3.50722343e-01,  1.18838837e-02, -5.85284606e-02,  3.31018776e-01,\n",
       "       -3.21777500e-02,  2.93507934e-01, -1.53391063e-02, -6.14945054e-01,\n",
       "       -2.57041216e-01,  1.69093654e-01,  4.45455790e-01, -3.30457747e-01,\n",
       "       -4.49294865e-01,  5.58959544e-02,  5.67244776e-02,  1.50162084e-02,\n",
       "        2.11657867e-01, -2.10108146e-01, -1.33263901e-01,  3.28598678e-01,\n",
       "        4.10327129e-02, -4.10782039e-01, -1.91873699e-01, -8.57606083e-02,\n",
       "       -5.41194558e-01, -1.62431307e-03, -9.17915553e-02,  1.35270998e-01,\n",
       "       -9.58283059e-03,  1.58893377e-01, -2.52977759e-01, -3.04127634e-01,\n",
       "       -3.68686825e-01,  1.51368454e-01,  2.11491451e-01,  3.73846367e-02,\n",
       "        2.05382839e-01, -5.25432169e-01, -6.09267130e-02,  2.79979259e-01,\n",
       "        3.01519800e-02,  4.32422310e-01,  6.62959963e-02, -4.57408391e-02,\n",
       "        1.11676812e-01,  2.97318220e-01,  5.37635922e-01,  4.88828391e-01,\n",
       "       -1.67837292e-01,  5.20107895e-02, -3.03190738e-01,  1.03977144e-01,\n",
       "        2.53971636e-01,  5.43892458e-02, -1.32453769e-01,  5.83805978e-01,\n",
       "        3.28758121e-01, -6.70487899e-03,  2.49486536e-01,  3.86194587e-01,\n",
       "       -4.51856554e-02,  2.14703456e-01, -2.01492652e-01,  2.29935512e-01,\n",
       "        2.11921945e-01,  2.51921177e-01, -3.37276697e-01, -7.76099935e-02,\n",
       "       -1.32334918e-01,  1.56006038e-01, -9.83555987e-02, -4.58624475e-02,\n",
       "        6.86337054e-02, -8.71234611e-02, -2.51382031e-02,  1.14296831e-01,\n",
       "        3.79744142e-01, -1.96004629e-01,  2.79051736e-02, -2.94146478e-01,\n",
       "       -3.54048878e-01, -2.27805540e-01,  1.36831075e-01, -2.54308194e-01,\n",
       "       -1.10151373e-01, -1.85646906e-01,  1.32880062e-01, -2.56733090e-01,\n",
       "        2.53001332e-01,  6.22949421e-01,  1.81323975e-01,  1.98695853e-01,\n",
       "       -3.99964750e-01, -1.34687200e-01,  4.16867286e-01, -2.36701936e-01,\n",
       "       -2.30831444e-01,  7.01424330e-02, -5.74257016e-01, -3.94335911e-02,\n",
       "        9.88133401e-02, -1.53662980e-01, -4.70353141e-02,  2.06098527e-01,\n",
       "       -2.94622451e-01,  8.13769639e-01, -9.82874781e-02, -4.04398032e-02,\n",
       "       -2.76040792e-01,  1.39689654e-01, -2.41955221e-02, -5.17975032e-01,\n",
       "        2.82009528e-03,  5.76274216e-01, -4.22463566e-01, -7.45828599e-02,\n",
       "        3.39043021e-01,  6.85004964e-02,  9.14513320e-02, -2.08371729e-02,\n",
       "       -1.12430468e-01,  9.13718864e-02,  7.67748713e-01, -4.54025418e-01,\n",
       "        1.63980909e-02, -3.47021013e-01,  8.10666904e-02,  2.26889074e-01,\n",
       "       -5.17257035e-01,  2.12509006e-01, -1.02006316e-01,  4.12028611e-01,\n",
       "       -2.45591789e-01,  2.07548484e-01,  2.10123047e-01, -2.37567797e-01,\n",
       "        6.86059799e-03, -1.64451953e-02,  5.80117851e-02,  8.12616870e-02,\n",
       "       -3.16511542e-01, -2.64147848e-01, -9.77334231e-02,  2.68246770e-01,\n",
       "       -1.04900807e-01,  3.85969765e-02,  1.66366324e-01,  5.62622733e-02,\n",
       "        3.81352782e-01,  5.92769146e-01,  1.33683741e-01,  1.29821172e-04,\n",
       "        1.73354566e-01, -1.32568091e-01,  7.09626591e-04,  1.87160447e-01],\n",
       "      dtype=float32)"
      ]
     },
     "metadata": {},
     "execution_count": 59
    }
   ],
   "source": [
    "test_example_text = test_docs[0].words\n",
    "doc2vec_model.infer_vector(test_example_text)"
   ]
  },
  {
   "source": [
    "## Baseline Classifiers"
   ],
   "cell_type": "markdown",
   "metadata": {}
  },
  {
   "cell_type": "code",
   "execution_count": 11,
   "metadata": {},
   "outputs": [],
   "source": [
    "from sklearn.tree import DecisionTreeClassifier\n",
    "from sklearn.neural_network import MLPClassifier\n",
    "from sklearn.neighbors import KNeighborsClassifier\n",
    "from sklearn.svm import SVC\n",
    "from sklearn.gaussian_process import GaussianProcessClassifier\n",
    "from sklearn.gaussian_process.kernels import RBF\n",
    "from sklearn.tree import DecisionTreeClassifier\n",
    "from sklearn.ensemble import RandomForestClassifier, AdaBoostClassifier\n",
    "from sklearn.naive_bayes import GaussianNB\n",
    "from sklearn.discriminant_analysis import QuadraticDiscriminantAnalysis\n",
    "\n",
    "baseline_models = [\n",
    "    KNeighborsClassifier(3),\n",
    "    SVC(kernel=\"linear\", C=0.025),\n",
    "    GaussianProcessClassifier(1.0 * RBF(1.0)),\n",
    "    RandomForestClassifier(max_depth=5, n_estimators=10, max_features=1),\n",
    "    MLPClassifier(alpha=1, max_iter=1000),\n",
    "    AdaBoostClassifier()]\n",
    "\n",
    "model_names = [\"Nearest Neighbors\", \"Linear SVM\", \"Gaussian Process\",\n",
    "         \"Random Forest\", \"Neural Net\", \"AdaBoost\"]"
   ]
  },
  {
   "cell_type": "code",
   "execution_count": 13,
   "metadata": {},
   "outputs": [],
   "source": [
    "def embed_docs(tagged_docs, model):\n",
    "    num_docs = len(tagged_docs)\n",
    "    X = np.zeros((num_docs, EMBED_DIM))\n",
    "    y = np.zeros(num_docs)\n",
    "    for i in range(num_docs):\n",
    "        words = tagged_docs[i].words\n",
    "        tag = tagged_docs[i].tags[0] # TODO: May change if we want multi labels\n",
    "        X[i] = model.infer_vector(words)\n",
    "        y[i] = tag\n",
    "    return X, y"
   ]
  },
  {
   "cell_type": "code",
   "execution_count": 14,
   "metadata": {},
   "outputs": [],
   "source": [
    "X_train, y_train = embed_docs(train_docs, doc2vec_model)\n",
    "X_val, y_val  = embed_docs(val_docs, doc2vec_model)\n",
    "X_test, y_test  = embed_docs(test_docs, doc2vec_model)"
   ]
  },
  {
   "cell_type": "code",
   "execution_count": 12,
   "metadata": {},
   "outputs": [
    {
     "output_type": "stream",
     "name": "stdout",
     "text": [
      "Nearest Neighbors\n"
     ]
    },
    {
     "output_type": "error",
     "ename": "NameError",
     "evalue": "name 'X_train' is not defined",
     "traceback": [
      "\u001b[0;31m---------------------------------------------------------------------------\u001b[0m",
      "\u001b[0;31mNameError\u001b[0m                                 Traceback (most recent call last)",
      "\u001b[0;32m<ipython-input-12-4746ca5baf1c>\u001b[0m in \u001b[0;36m<module>\u001b[0;34m\u001b[0m\n\u001b[1;32m      1\u001b[0m \u001b[0;32mfor\u001b[0m \u001b[0mi\u001b[0m \u001b[0;32min\u001b[0m \u001b[0mrange\u001b[0m\u001b[0;34m(\u001b[0m\u001b[0mlen\u001b[0m\u001b[0;34m(\u001b[0m\u001b[0mbaseline_models\u001b[0m\u001b[0;34m)\u001b[0m\u001b[0;34m)\u001b[0m\u001b[0;34m:\u001b[0m\u001b[0;34m\u001b[0m\u001b[0;34m\u001b[0m\u001b[0m\n\u001b[1;32m      2\u001b[0m     \u001b[0mprint\u001b[0m\u001b[0;34m(\u001b[0m\u001b[0mmodel_names\u001b[0m\u001b[0;34m[\u001b[0m\u001b[0mi\u001b[0m\u001b[0;34m]\u001b[0m\u001b[0;34m)\u001b[0m\u001b[0;34m\u001b[0m\u001b[0;34m\u001b[0m\u001b[0m\n\u001b[0;32m----> 3\u001b[0;31m     \u001b[0mmodel\u001b[0m \u001b[0;34m=\u001b[0m \u001b[0mbaseline_models\u001b[0m\u001b[0;34m[\u001b[0m\u001b[0mi\u001b[0m\u001b[0;34m]\u001b[0m\u001b[0;34m.\u001b[0m\u001b[0mfit\u001b[0m\u001b[0;34m(\u001b[0m\u001b[0mX_train\u001b[0m\u001b[0;34m,\u001b[0m \u001b[0my_train\u001b[0m\u001b[0;34m)\u001b[0m\u001b[0;34m\u001b[0m\u001b[0;34m\u001b[0m\u001b[0m\n\u001b[0m\u001b[1;32m      4\u001b[0m     \u001b[0my_pred\u001b[0m \u001b[0;34m=\u001b[0m \u001b[0mmodel\u001b[0m\u001b[0;34m.\u001b[0m\u001b[0mpredict\u001b[0m\u001b[0;34m(\u001b[0m\u001b[0mX_test\u001b[0m\u001b[0;34m)\u001b[0m\u001b[0;34m\u001b[0m\u001b[0;34m\u001b[0m\u001b[0m\n\u001b[1;32m      5\u001b[0m     \u001b[0mprint\u001b[0m\u001b[0;34m(\u001b[0m\u001b[0;34m'Testing accuracy = {}'\u001b[0m\u001b[0;34m.\u001b[0m\u001b[0mformat\u001b[0m\u001b[0;34m(\u001b[0m\u001b[0maccuracy_score\u001b[0m\u001b[0;34m(\u001b[0m\u001b[0my_test\u001b[0m\u001b[0;34m,\u001b[0m \u001b[0my_pred\u001b[0m\u001b[0;34m)\u001b[0m\u001b[0;34m)\u001b[0m\u001b[0;34m)\u001b[0m\u001b[0;34m\u001b[0m\u001b[0;34m\u001b[0m\u001b[0m\n",
      "\u001b[0;31mNameError\u001b[0m: name 'X_train' is not defined"
     ]
    }
   ],
   "source": [
    "for i in range(len(baseline_models)):\n",
    "    print(model_names[i])\n",
    "    model = baseline_models[i].fit(X_train, y_train)\n",
    "    y_pred = model.predict(X_test)\n",
    "    print('Testing accuracy = {}'.format(accuracy_score(y_test, y_pred)))\n",
    "    print('Testing F1 score = {}'.format(f1_score(y_test, y_pred, average='weighted')))\n",
    "    print()"
   ]
  }
 ],
 "metadata": {
  "kernelspec": {
   "display_name": "Python 3",
   "language": "python",
   "name": "python3"
  },
  "language_info": {
   "codemirror_mode": {
    "name": "ipython",
    "version": 3
   },
   "file_extension": ".py",
   "mimetype": "text/x-python",
   "name": "python",
   "nbconvert_exporter": "python",
   "pygments_lexer": "ipython3",
   "version": "3.7.3-final"
  }
 },
 "nbformat": 4,
 "nbformat_minor": 4
}